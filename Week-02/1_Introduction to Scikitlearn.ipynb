{
 "cells": [
  {
   "cell_type": "markdown",
   "metadata": {},
   "source": [
    "# Week 2 - Classical ML Models\n",
    "\n",
    "## 0. Introduction to Scikit-learn\n",
    "\n",
    "Started as a Google Summer of Code project in 2007, **scikit-learn** is one of the most popular machine learning libraries today. It provides efficient implementations of the ML models we will be taking a look at this week, as well as various other utility methods that you might need at every stage of an end-to-end machine learning project, from preprocessing and model evaluation to hyperparameter optimisation. Below is an overview of the functionalities provided by scikit-learn:"
   ]
  },
  {
   "cell_type": "code",
   "execution_count": 1,
   "metadata": {},
   "outputs": [],
   "source": [
    "# Sample Datasets \n",
    "from sklearn.datasets import load_wine, load_iris #...\n",
    "\n",
    "# Feature Engineering \n",
    "from sklearn.preprocessing import StandardScaler, OrdinalEncoder, OneHotEncoder # ...\n",
    "from sklearn.feature_extraction.text import CountVectorizer, TfidfTransformer # examples for text\n",
    "from sklearn.feature_selection import SelectFromModel, VarianceThreshold # ...\n",
    "from sklearn.decomposition import PCA, TruncatedSVD # ...\n",
    "\n",
    "# Data Split and Parameter Tuning\n",
    "from sklearn.model_selection import train_test_split, GridSearchCV, RandomizedSearchCV, ShuffleSplit # ...\n",
    "\n",
    "# Evaluation\n",
    "from sklearn.metrics import recall_score, precision_score, roc_auc_score, f1_score, roc_curve # ...\n",
    "\n",
    "# ML Algorithms (We'll cover some of these this week!)\n",
    "from sklearn.ensemble import RandomForestClassifier, VotingRegressor, AdaBoostClassifier,  StackingClassifier # ...\n",
    "from sklearn.linear_model import LinearRegression, LogisticRegression # ...\n",
    "from sklearn.naive_bayes import GaussianNB, MultinomialNB, BernoulliNB # ...\n",
    "from sklearn.neighbors import NearestNeighbors, NearestCentroid # ...\n",
    "from sklearn.svm import LinearSVC, LinearSVR, SVC, SVR # ...\n",
    "from sklearn.tree import DecisionTreeClassifier, DecisionTreeRegressor # ...\n",
    "from sklearn.cluster import SpectralClustering, AgglomerativeClustering, SpectralBiclustering # ...\n",
    "\n",
    "# Utilities\n",
    "from sklearn.pipeline import Pipeline, make_pipeline # ...\n",
    "from sklearn.impute import SimpleImputer # ...\n",
    "from sklearn.compose import ColumnTransformer # ...\n",
    "\n",
    "# ...and more!"
   ]
  },
  {
   "cell_type": "markdown",
   "metadata": {},
   "source": [
    "## 1. Evaluating and testing your model (and why we need train and test sets)\n",
    "\n",
    "Last week we went through an example of how you might obtain the data and carry out some Exploratory Data Analysis (EDA) on it to gain a better idea of what you're going to be working with. Next, we might do well to consider how we might use this data to train a machine learning model, and importantly, to evalute its performance. Remember, the goal of your model is to give an accurate prediction for data it has never seen before.\n",
    "\n",
    "Let's go through a simple example of using a machine learning model for classification and see how we might evaluate our model:"
   ]
  },
  {
   "cell_type": "code",
   "execution_count": 2,
   "metadata": {},
   "outputs": [],
   "source": [
    "import pandas as pd\n",
    "import numpy as np \n",
    "\n",
    "from sklearn.datasets import load_wine\n",
    "from sklearn.metrics import accuracy_score\n",
    "from sklearn.tree import DecisionTreeClassifier\n",
    "\n",
    "import matplotlib.pyplot as plt\n",
    "\n",
    "RANDOM_STATE = 42"
   ]
  },
  {
   "cell_type": "code",
   "execution_count": 3,
   "metadata": {},
   "outputs": [
    {
     "name": "stdout",
     "output_type": "stream",
     "text": [
      "{0: 'class_0', 1: 'class_1', 2: 'class_2'}\n"
     ]
    },
    {
     "data": {
      "text/html": [
       "<div>\n",
       "<style scoped>\n",
       "    .dataframe tbody tr th:only-of-type {\n",
       "        vertical-align: middle;\n",
       "    }\n",
       "\n",
       "    .dataframe tbody tr th {\n",
       "        vertical-align: top;\n",
       "    }\n",
       "\n",
       "    .dataframe thead th {\n",
       "        text-align: right;\n",
       "    }\n",
       "</style>\n",
       "<table border=\"1\" class=\"dataframe\">\n",
       "  <thead>\n",
       "    <tr style=\"text-align: right;\">\n",
       "      <th></th>\n",
       "      <th>alcohol</th>\n",
       "      <th>malic_acid</th>\n",
       "      <th>ash</th>\n",
       "      <th>alcalinity_of_ash</th>\n",
       "      <th>magnesium</th>\n",
       "      <th>total_phenols</th>\n",
       "      <th>flavanoids</th>\n",
       "      <th>nonflavanoid_phenols</th>\n",
       "      <th>proanthocyanins</th>\n",
       "      <th>color_intensity</th>\n",
       "      <th>hue</th>\n",
       "      <th>od280/od315_of_diluted_wines</th>\n",
       "      <th>proline</th>\n",
       "      <th>target</th>\n",
       "    </tr>\n",
       "  </thead>\n",
       "  <tbody>\n",
       "    <tr>\n",
       "      <th>19</th>\n",
       "      <td>13.64</td>\n",
       "      <td>3.10</td>\n",
       "      <td>2.56</td>\n",
       "      <td>15.2</td>\n",
       "      <td>116.0</td>\n",
       "      <td>2.70</td>\n",
       "      <td>3.03</td>\n",
       "      <td>0.17</td>\n",
       "      <td>1.66</td>\n",
       "      <td>5.10</td>\n",
       "      <td>0.96</td>\n",
       "      <td>3.36</td>\n",
       "      <td>845.0</td>\n",
       "      <td>0</td>\n",
       "    </tr>\n",
       "    <tr>\n",
       "      <th>45</th>\n",
       "      <td>14.21</td>\n",
       "      <td>4.04</td>\n",
       "      <td>2.44</td>\n",
       "      <td>18.9</td>\n",
       "      <td>111.0</td>\n",
       "      <td>2.85</td>\n",
       "      <td>2.65</td>\n",
       "      <td>0.30</td>\n",
       "      <td>1.25</td>\n",
       "      <td>5.24</td>\n",
       "      <td>0.87</td>\n",
       "      <td>3.33</td>\n",
       "      <td>1080.0</td>\n",
       "      <td>0</td>\n",
       "    </tr>\n",
       "    <tr>\n",
       "      <th>140</th>\n",
       "      <td>12.93</td>\n",
       "      <td>2.81</td>\n",
       "      <td>2.70</td>\n",
       "      <td>21.0</td>\n",
       "      <td>96.0</td>\n",
       "      <td>1.54</td>\n",
       "      <td>0.50</td>\n",
       "      <td>0.53</td>\n",
       "      <td>0.75</td>\n",
       "      <td>4.60</td>\n",
       "      <td>0.77</td>\n",
       "      <td>2.31</td>\n",
       "      <td>600.0</td>\n",
       "      <td>2</td>\n",
       "    </tr>\n",
       "    <tr>\n",
       "      <th>30</th>\n",
       "      <td>13.73</td>\n",
       "      <td>1.50</td>\n",
       "      <td>2.70</td>\n",
       "      <td>22.5</td>\n",
       "      <td>101.0</td>\n",
       "      <td>3.00</td>\n",
       "      <td>3.25</td>\n",
       "      <td>0.29</td>\n",
       "      <td>2.38</td>\n",
       "      <td>5.70</td>\n",
       "      <td>1.19</td>\n",
       "      <td>2.71</td>\n",
       "      <td>1285.0</td>\n",
       "      <td>0</td>\n",
       "    </tr>\n",
       "    <tr>\n",
       "      <th>67</th>\n",
       "      <td>12.37</td>\n",
       "      <td>1.17</td>\n",
       "      <td>1.92</td>\n",
       "      <td>19.6</td>\n",
       "      <td>78.0</td>\n",
       "      <td>2.11</td>\n",
       "      <td>2.00</td>\n",
       "      <td>0.27</td>\n",
       "      <td>1.04</td>\n",
       "      <td>4.68</td>\n",
       "      <td>1.12</td>\n",
       "      <td>3.48</td>\n",
       "      <td>510.0</td>\n",
       "      <td>1</td>\n",
       "    </tr>\n",
       "  </tbody>\n",
       "</table>\n",
       "</div>"
      ],
      "text/plain": [
       "     alcohol  malic_acid   ash  alcalinity_of_ash  magnesium  total_phenols  \\\n",
       "19     13.64        3.10  2.56               15.2      116.0           2.70   \n",
       "45     14.21        4.04  2.44               18.9      111.0           2.85   \n",
       "140    12.93        2.81  2.70               21.0       96.0           1.54   \n",
       "30     13.73        1.50  2.70               22.5      101.0           3.00   \n",
       "67     12.37        1.17  1.92               19.6       78.0           2.11   \n",
       "\n",
       "     flavanoids  nonflavanoid_phenols  proanthocyanins  color_intensity   hue  \\\n",
       "19         3.03                  0.17             1.66             5.10  0.96   \n",
       "45         2.65                  0.30             1.25             5.24  0.87   \n",
       "140        0.50                  0.53             0.75             4.60  0.77   \n",
       "30         3.25                  0.29             2.38             5.70  1.19   \n",
       "67         2.00                  0.27             1.04             4.68  1.12   \n",
       "\n",
       "     od280/od315_of_diluted_wines  proline  target  \n",
       "19                           3.36    845.0       0  \n",
       "45                           3.33   1080.0       0  \n",
       "140                          2.31    600.0       2  \n",
       "30                           2.71   1285.0       0  \n",
       "67                           3.48    510.0       1  "
      ]
     },
     "execution_count": 3,
     "metadata": {},
     "output_type": "execute_result"
    }
   ],
   "source": [
    "wine = load_wine()\n",
    "\n",
    "# Target classes\n",
    "print({idx: value for (idx, value) in enumerate(wine.target_names)})\n",
    "\n",
    "df = pd.DataFrame(wine.data, columns = wine.feature_names)\n",
    "df['target'] = wine.target\n",
    "df.sample(n=5, random_state=RANDOM_STATE)"
   ]
  },
  {
   "cell_type": "markdown",
   "metadata": {},
   "source": [
    "Now, let's use all of our data to train a simple `DecisionTreeClassifier` from `scikit-learn` and use the trained model to predict on the same data:"
   ]
  },
  {
   "cell_type": "code",
   "execution_count": 4,
   "metadata": {},
   "outputs": [
    {
     "name": "stdout",
     "output_type": "stream",
     "text": [
      "(178, 13)\n"
     ]
    }
   ],
   "source": [
    "X, y = wine.data, wine.target\n",
    "print(X.shape) # we have 178 rows of data with 13 columns (features)"
   ]
  },
  {
   "cell_type": "code",
   "execution_count": 5,
   "metadata": {},
   "outputs": [],
   "source": [
    "model = DecisionTreeClassifier(random_state=RANDOM_STATE)"
   ]
  },
  {
   "cell_type": "code",
   "execution_count": 6,
   "metadata": {},
   "outputs": [
    {
     "name": "stdout",
     "output_type": "stream",
     "text": [
      "Prediction accuracy: 1.00\n"
     ]
    }
   ],
   "source": [
    "model.fit(X,y)\n",
    "\n",
    "pred = model.predict(X)\n",
    "\n",
    "print(f\"Prediction accuracy: {accuracy_score(y,pred):.2f}\")"
   ]
  },
  {
   "cell_type": "markdown",
   "metadata": {},
   "source": [
    "We get a prediction accuracy of 100%! Are we done here?\n",
    "\n",
    "Not quite yet. If we trained a model on 100% of our data and then tested it on the same data, we will not get an accurate representation of how well it will perform in the real world! It may very well be the case that your model, once deployed in production, performs poorly when it sees new, hitherto unseen data. \n",
    "\n",
    "Because we would like to gauge how well a model would perform in production before actually deploying it, we split our data into two non-overlapping sets: **training set** and **test set**. As you might have guessed, the model is trained using only the **training set** and thereafter tested using the **test set**. This way, we can get a sense of how well the model we've trained is able to *generalize*. \n",
    "\n",
    "Let us now split the dataset into **training** and **test** sets manually. To do so, we define a function called `split_train_test()` that takes in an iterable `X` for the data and `y` for the labels, as well as an optional `train_size` parameter defining the proportion of the dataset to include in the training set and finally `random_state`, the random seed that allows us to obtain the same splits for multiple runs. It returns a list of `numpy` arrays of the X and y splits."
   ]
  },
  {
   "cell_type": "code",
   "execution_count": 7,
   "metadata": {},
   "outputs": [],
   "source": [
    "def split_train_test(X, y, train_size=0.8, random_state=RANDOM_STATE):\n",
    "    np.random.seed(random_state) \n",
    "    X = np.array(X)\n",
    "    y = np.array(y)\n",
    "    indices = np.random.permutation(len(X))\n",
    "    train_size = int(train_size * len(X))\n",
    "    train_idx = indices[:train_size]\n",
    "    test_idx = indices[train_size:]\n",
    "    return X[train_idx], X[test_idx], y[train_idx], y[test_idx]"
   ]
  },
  {
   "cell_type": "markdown",
   "metadata": {},
   "source": [
    "Now let's check that the function is working as expected:"
   ]
  },
  {
   "cell_type": "code",
   "execution_count": 8,
   "metadata": {},
   "outputs": [
    {
     "name": "stdout",
     "output_type": "stream",
     "text": [
      "X_train shape:  (142, 13)\n",
      "X_test shape:  (36, 13)\n",
      "y_train shape:  (142,)\n",
      "y_test shape:  (36,)\n"
     ]
    }
   ],
   "source": [
    "X_train, X_test, y_train, y_test = split_train_test(X,y)\n",
    "print(\"X_train shape: \", X_train.shape)\n",
    "print(\"X_test shape: \", X_test.shape)\n",
    "print(\"y_train shape: \", y_train.shape)\n",
    "print(\"y_test shape: \", y_test.shape)"
   ]
  },
  {
   "cell_type": "markdown",
   "metadata": {},
   "source": [
    "Instead of writing our own function, we can use scikit-learn's `train_test_split()` method, which pretty much does the same thing as our little function above when `shuffle=True` (which is the default). It also supports scipy-sparse matrices and pandas dataframes as inputs, and has an option to *stratify* the data (which we will get to in a bit). Here is the signature for the `train_test_split()` method:\n",
    "\n",
    "`sklearn.model_selection.train_test_split(*arrays, test_size=None, train_size=None, random_state=None, shuffle=True, stratify=None)`\n",
    "\n",
    "Let's use this method instead to generate our splits:"
   ]
  },
  {
   "cell_type": "code",
   "execution_count": 9,
   "metadata": {},
   "outputs": [
    {
     "name": "stdout",
     "output_type": "stream",
     "text": [
      "X_train shape:  (142, 13)\n",
      "X_test shape:  (36, 13)\n",
      "y_train shape:  (142,)\n",
      "y_test shape:  (36,)\n"
     ]
    }
   ],
   "source": [
    "from sklearn.model_selection import train_test_split\n",
    "\n",
    "X_train, X_test, y_train, y_test = train_test_split(X,y, train_size=0.8, random_state=42)\n",
    "print(\"X_train shape: \", X_train.shape)\n",
    "print(\"X_test shape: \", X_test.shape)\n",
    "print(\"y_train shape: \", y_train.shape)\n",
    "print(\"y_test shape: \", y_test.shape)"
   ]
  },
  {
   "cell_type": "markdown",
   "metadata": {},
   "source": [
    "And now let's evaluate our model on the test set and see what we get:"
   ]
  },
  {
   "cell_type": "code",
   "execution_count": 10,
   "metadata": {},
   "outputs": [
    {
     "name": "stdout",
     "output_type": "stream",
     "text": [
      "Prediction accuracy: 0.94\n"
     ]
    }
   ],
   "source": [
    "model.fit(X_train, y_train)\n",
    "\n",
    "pred = model.predict(X_test)\n",
    "\n",
    "print(f\"Prediction accuracy: {accuracy_score(y_test, pred):.2f}\")"
   ]
  },
  {
   "cell_type": "markdown",
   "metadata": {},
   "source": [
    "As you can see, we only got a 94% accuracy when we used the test set to evaluate our model's performance. "
   ]
  },
  {
   "cell_type": "markdown",
   "metadata": {},
   "source": [
    "### 1.1 Cross-validation\n",
    "\n",
    "So far, we only used the **training** and **test** sets, and managed to reach 94% accuracy on the test set with a decision tree model. We now want to reach for better performance with our model. Of course, we could choose a different type of model (e.g. SVM classifier) but let us stick to decision trees for now, as there are many things we can still try with decision trees. \n",
    "\n",
    "Scikit-learn's `DecisionTreeClassifier` has many hyperparameters you can tune. If you are familiar with the implementation of decision trees, you'll know that you can use different criteria for splitting the dataset at each node of the tree. Scikit-learn allows us to choose between `gini` for splitting based on Gini impurity and `entropy` for splitting based on the amount of information gain (the details of what these mean aren't too important here). There are also other hyperparameters you can specify, such as the maximum depth of the tree generated (`max_depth`), and the minimum number of instances that each leaf node in the tree can contain (`min_samples_leaf`), and more.\n",
    "\n",
    "How do we choose the best hyperparameters for our decision tree? One way we can do this is by training multiple instances of our model and evaluating individual performance against the test set. However, there is a problem with this methodology: there is a risk of us overfitting the model on the particular test set used, by trying to optimise our model hyperparameters such that it obtains the best results on our choice of the test set. As machine learning practitioners, the **test set** should be hidden from us until we evaluate our choices and decide on the model to use.\n",
    "\n",
    "One way we can solve this problem is to hold out a separate, third set known as the **validation set** (sometimes also called the *development set*) which we use to evaluate and select the best model. The validation set is obtained from a small proportion of the **training set** and therefore the data we have available for training the model is reduced.  \n",
    "\n",
    "The problem with this approach, however, is that we have to decide the appropriate size of the validation set, the choice of which also depends on the size of the training data available (e.g. if validation set is too large and we have limited training data, our model will be suboptimal. Similarly, too small a validation set and the validation result may not be accurate). Furthermore, just like when we used the test set to select the best hyperparameters for our model, we become prone to **overfitting** the validation set since the validation set is generated at the start and remains constant throughout the hyperparameter optimisation process. \n",
    "\n",
    "In practice, therefore, we use a technique called cross-validation (CV)."
   ]
  },
  {
   "cell_type": "markdown",
   "metadata": {},
   "source": [
    "### 1.2 K-Fold Cross-Validation\n",
    "\n",
    "In a *k*-fold CV, we split the original training set into K non-overlapping parts. For a total of K iterations, we use different (K-1) parts each time for training the model, and evaluate the trained model on the single subset that was not used (each subset is used once, which is why we have K iterations). Therefore, we essentially use *k* instances of different, non-overlapping validation sets to evaluate our model. The performance metrics for the model is the averaged result for K iterations. This gives us a better measure of the model's performance, though at the cost of increased training time. Below is a figure from scitkit-learn's website illustrating how k-fold CV works ([source](https://scikit-learn.org/stable/modules/cross_validation.html))."
   ]
  },
  {
   "cell_type": "markdown",
   "metadata": {},
   "source": [
    "<p align=\"center\">\n",
    "     <img src=\"https://scikit-learn.org/stable/_images/grid_search_cross_validation.png\" alt=\"K-fold cross-validation\" style=\"height:400px\" />\n",
    "</p>"
   ]
  },
  {
   "cell_type": "markdown",
   "metadata": {},
   "source": [
    "Once again, `scikit-learn` has an implementation of k-fold CV, although it wouldn't be too difficult to implement it on your own. If you want to challenge yourself, try implementing it yourself! For now, we'll use the `KFold` method provided for us by `scikit-learn`. Let's first test it on a small dataset:"
   ]
  },
  {
   "cell_type": "code",
   "execution_count": 11,
   "metadata": {},
   "outputs": [
    {
     "name": "stdout",
     "output_type": "stream",
     "text": [
      "[2 3 4 5], [0 1]\n",
      "[0 1 4 5], [2 3]\n",
      "[0 1 2 3], [4 5]\n"
     ]
    }
   ],
   "source": [
    "from sklearn.model_selection import KFold, ShuffleSplit, StratifiedKFold, StratifiedShuffleSplit\n",
    "\n",
    "X_small = [\"one\", \"two\", \"three\", \"four\", \"five\", \"six\"]\n",
    "kf = KFold(n_splits=3) # form 3 non-overlapping partitions containing 2 elements each\n",
    "\n",
    "for train_idx, test_idx in kf.split(X_small):\n",
    "    print(f\"{train_idx}, {test_idx}\")"
   ]
  },
  {
   "cell_type": "markdown",
   "metadata": {},
   "source": [
    "Now let's use it on our original dataset and visualise the results:"
   ]
  },
  {
   "cell_type": "code",
   "execution_count": 12,
   "metadata": {},
   "outputs": [],
   "source": [
    "cmap_data = plt.cm.Paired\n",
    "cmap_cv = plt.cm.coolwarm\n",
    "\n",
    "# Modified from https://scikit-learn.org/stable/auto_examples/model_selection/plot_cv_indices.html\n",
    "def plot_cv_indices(cv, X, y, ax, n_splits, lw=10):\n",
    "    \"\"\"Create a sample plot for indices of a cross-validation object.\"\"\"\n",
    "\n",
    "    # Generate the training/testing visualizations for each CV split\n",
    "    for ii, (tr, tt) in enumerate(cv.split(X=X, y=y)):\n",
    "        # Fill in indices with the training/test groups\n",
    "        indices = np.array([np.nan] * len(X))\n",
    "        indices[tt] = 1\n",
    "        indices[tr] = 0\n",
    "\n",
    "        # Visualize the results\n",
    "        sc = ax.scatter(range(len(indices)), [ii + .5] * len(indices),\n",
    "                   c=indices, marker='_', lw=lw, cmap=cmap_cv,\n",
    "                   vmin=-.2, vmax=1.2)\n",
    "\n",
    "    clset = [(1,'Validation set'), (0,'Training set')]\n",
    "    handles = [plt.plot([],color=sc.get_cmap()(sc.norm(c)),ls=\"\", marker=\"o\")[0] for c,l in clset ]\n",
    "    labels = [l for c,l in clset]\n",
    "    ax.legend(handles, labels, bbox_to_anchor=(1.04,1), loc=\"upper left\")\n",
    "\n",
    "\n",
    "    # Plot the data classes only\n",
    "    ax.scatter(range(len(X)), [ii + 1.5] * len(X),\n",
    "               c=y, marker='_', lw=lw, cmap=cmap_data)\n",
    "\n",
    "    # Formatting\n",
    "    yticklabels = list(range(n_splits)) + ['class']\n",
    "    ax.set(yticks=np.arange(n_splits+1) + .5, yticklabels=yticklabels,\n",
    "           xlabel='Sample index', ylabel=\"CV iteration\",\n",
    "           ylim=[n_splits+1.2, -.2], xlim=[0, len(X)])\n",
    "    ax.set_title('{}'.format(type(cv).__name__), fontsize=15)\n",
    "    return ax"
   ]
  },
  {
   "cell_type": "code",
   "execution_count": 13,
   "metadata": {},
   "outputs": [
    {
     "data": {
      "text/plain": [
       "<AxesSubplot:title={'center':'KFold'}, xlabel='Sample index', ylabel='CV iteration'>"
      ]
     },
     "execution_count": 13,
     "metadata": {},
     "output_type": "execute_result"
    },
    {
     "data": {
      "image/png": "[encoded data removed]",
      "text/plain": [
       "<Figure size 432x288 with 1 Axes>"
      ]
     },
     "metadata": {
      "needs_background": "light"
     },
     "output_type": "display_data"
    }
   ],
   "source": [
    "n_splits = 4\n",
    "\n",
    "fig, ax = plt.subplots()\n",
    "\n",
    "cv = KFold(n_splits)\n",
    "\n",
    "plot_cv_indices(cv, X, y, ax, n_splits)"
   ]
  },
  {
   "cell_type": "markdown",
   "metadata": {},
   "source": [
    "## 3.2 Cross-validation with ShuffleSplit\n",
    "\n",
    "Another way we can do k-fold cross-validation is with `ShuffleSplit` from `scitkit-learn`. As the name suggests, `ShuffleSplit` will yield random indices to split the data into two training and test / validation sets, according to the `test_size` and `train_size` parameters. In fact, the `train_test_split()` method we used earlier is basically a wrapper around `next(ShuffleSplit().split(X, y))`. One caveat with `ShuffleSplit` is that the folds are not guaranteed to be non-overlapping since they are randomly drawn, though this shouldn't be a problem if your dataset is sufficiently large. \n",
    "\n",
    "Now, let's visualise `ShuffleSplit`:\n"
   ]
  },
  {
   "cell_type": "code",
   "execution_count": 14,
   "metadata": {},
   "outputs": [
    {
     "data": {
      "text/plain": [
       "<AxesSubplot:title={'center':'ShuffleSplit'}, xlabel='Sample index', ylabel='CV iteration'>"
      ]
     },
     "execution_count": 14,
     "metadata": {},
     "output_type": "execute_result"
    },
    {
     "data": {
      "image/png": "[encoded data removed]",
      "text/plain": [
       "<Figure size 432x288 with 1 Axes>"
      ]
     },
     "metadata": {
      "needs_background": "light"
     },
     "output_type": "display_data"
    }
   ],
   "source": [
    "fig, ax = plt.subplots()\n",
    "\n",
    "cv = ShuffleSplit(n_splits)\n",
    "\n",
    "plot_cv_indices(cv, X, y, ax, n_splits)"
   ]
  },
  {
   "cell_type": "markdown",
   "metadata": {},
   "source": [
    "### 1.3 Stratified Cross-validation\n",
    "\n",
    "Earlier, when using `KFold` with `k=4`, we effectively evaluated our model on 4 completely different validation sets. However, you might have noticed that the 3 target classes are not evenly distributed across our 4 validation sets! For example, notice how all the instances in our first validation set are from the class represented by a *light blue* color. The same goes for the last validation set, which only contains instances belonging to the brown-colored class. In other words, we have introduced significant **sampling bias**. Ideally, we want the distribution of classes in our validation and training sets in each iteration to be representative of that of the original whole dataset.\n",
    "\n",
    "To achieve this, we use what's called **stratified sampling**, where the percentage of samples in each class is manintained to be more or less the same as the ratio in the original dataset. Conveniently, `scikit-learn` provides us with the stratified variants of the splitting strategies we explored thus far: `StratifiedKFold` and `StratifiedShuffleSplit`. \n",
    "\n",
    "Let's now visualise these strategies and how they differ from the non-stratified variants:"
   ]
  },
  {
   "cell_type": "code",
   "execution_count": 15,
   "metadata": {},
   "outputs": [
    {
     "data": {
      "text/plain": [
       "<AxesSubplot:title={'center':'StratifiedKFold'}, xlabel='Sample index', ylabel='CV iteration'>"
      ]
     },
     "execution_count": 15,
     "metadata": {},
     "output_type": "execute_result"
    },
    {
     "data": {
      "image/png": "[encoded data removed]",
      "text/plain": [
       "<Figure size 432x288 with 1 Axes>"
      ]
     },
     "metadata": {
      "needs_background": "light"
     },
     "output_type": "display_data"
    }
   ],
   "source": [
    "fig, ax = plt.subplots()\n",
    "cv = StratifiedKFold(n_splits)\n",
    "plot_cv_indices(cv, X, y, ax, n_splits)"
   ]
  },
  {
   "cell_type": "markdown",
   "metadata": {},
   "source": [
    "In the figure above, it is clear that the validation and training sets in each iteration now maintains the ratio of the classes in the dataset."
   ]
  },
  {
   "cell_type": "code",
   "execution_count": 16,
   "metadata": {},
   "outputs": [
    {
     "data": {
      "text/plain": [
       "<AxesSubplot:title={'center':'StratifiedShuffleSplit'}, xlabel='Sample index', ylabel='CV iteration'>"
      ]
     },
     "execution_count": 16,
     "metadata": {},
     "output_type": "execute_result"
    },
    {
     "data": {
      "image/png": "[encoded data removed]",
      "text/plain": [
       "<Figure size 432x288 with 1 Axes>"
      ]
     },
     "metadata": {
      "needs_background": "light"
     },
     "output_type": "display_data"
    }
   ],
   "source": [
    "fig, ax = plt.subplots()\n",
    "cv = StratifiedShuffleSplit(n_splits)\n",
    "plot_cv_indices(cv, X, y, ax, n_splits)"
   ]
  },
  {
   "cell_type": "markdown",
   "metadata": {},
   "source": [
    "Now recall that the `train_test_split()` method we saw earlier had a `stratify` parameter in its method signature that was set to `None` by default. If we call the method with `stratify=y` instead, it will make sure that the proportion of target classes in the training and test sets will be the same as their proportion in `y`. "
   ]
  },
  {
   "cell_type": "markdown",
   "metadata": {},
   "source": [
    "### 1.4 Tying things up\n",
    "\n",
    "To tie things up with our example, let's use cross-validation to search for the best hyperparameters for our `DecisionTreeClassifer` to obtain a better accuracy on the test set. Here, we use `GridSearchCV` to search the space of potential hyperparameters and find the ones that give the best results. `GridSearchCV` uses cross-validation internally to evaluate the results, storing the best parameters found in the `best_params_` variable of the `GridSearchCV` object."
   ]
  },
  {
   "cell_type": "code",
   "execution_count": 17,
   "metadata": {},
   "outputs": [
    {
     "data": {
      "text/plain": [
       "GridSearchCV(cv=5, estimator=DecisionTreeClassifier(random_state=42),\n",
       "             param_grid=[{'criterion': ['gini', 'entropy'],\n",
       "                          'max_depth': [3, 6, 7, 8, 9, 10],\n",
       "                          'max_features': [2, 4, 7, 8, 9, 10],\n",
       "                          'min_samples_split': [2, 3, 4],\n",
       "                          'splitter': ['best', 'random']}],\n",
       "             return_train_score=True)"
      ]
     },
     "execution_count": 17,
     "metadata": {},
     "output_type": "execute_result"
    }
   ],
   "source": [
    "from sklearn.model_selection import GridSearchCV\n",
    "\n",
    "param_grid = [\n",
    "    { \n",
    "        'criterion': ['gini', 'entropy'], \n",
    "        'splitter': ['best','random'], \n",
    "        'max_depth': [3,6,7,8,9,10], \n",
    "        'max_features': [2,4,7,8,9,10], \n",
    "        'min_samples_split': [2, 3, 4]\n",
    "    }\n",
    "]\n",
    "\n",
    "model = DecisionTreeClassifier(random_state=RANDOM_STATE)\n",
    "\n",
    "grid_search = GridSearchCV(model, param_grid, cv=5, return_train_score=True)\n",
    "\n",
    "grid_search.fit(X, y)"
   ]
  },
  {
   "cell_type": "code",
   "execution_count": 18,
   "metadata": {},
   "outputs": [
    {
     "data": {
      "text/plain": [
       "(0.9212698412698412,\n",
       " {'criterion': 'gini',\n",
       "  'max_depth': 6,\n",
       "  'max_features': 10,\n",
       "  'min_samples_split': 3,\n",
       "  'splitter': 'random'})"
      ]
     },
     "execution_count": 18,
     "metadata": {},
     "output_type": "execute_result"
    }
   ],
   "source": [
    "grid_search.best_score_, grid_search.best_params_"
   ]
  },
  {
   "cell_type": "code",
   "execution_count": 19,
   "metadata": {},
   "outputs": [
    {
     "data": {
      "text/plain": [
       "DecisionTreeClassifier(max_depth=6, max_features=10, min_samples_split=3,\n",
       "                       random_state=42, splitter='random')"
      ]
     },
     "execution_count": 19,
     "metadata": {},
     "output_type": "execute_result"
    }
   ],
   "source": [
    "grid_search.best_estimator_"
   ]
  },
  {
   "cell_type": "code",
   "execution_count": 20,
   "metadata": {},
   "outputs": [
    {
     "name": "stdout",
     "output_type": "stream",
     "text": [
      "Prediction accuracy: 0.97\n"
     ]
    }
   ],
   "source": [
    "best_model = grid_search.best_estimator_\n",
    "\n",
    "best_model.fit(X_train, y_train)\n",
    "\n",
    "pred = best_model.predict(X_test)\n",
    "\n",
    "print(f\"Prediction accuracy: {accuracy_score(y_test, pred):.2f}\")"
   ]
  },
  {
   "cell_type": "code",
   "execution_count": null,
   "metadata": {},
   "outputs": [],
   "source": []
  }
 ],
 "metadata": {
  "interpreter": {
   "hash": "aee8b7b246df8f9039afb4144a1f6fd8d2ca17a180786b69acc140d282b71a49"
  },
  "kernelspec": {
   "display_name": "Python 3.9.6 64-bit",
   "name": "python3"
  },
  "language_info": {
   "codemirror_mode": {
    "name": "ipython",
    "version": 3
   },
   "file_extension": ".py",
   "mimetype": "text/x-python",
   "name": "python",
   "nbconvert_exporter": "python",
   "pygments_lexer": "ipython3",
   "version": "3.9.6"
  },
  "orig_nbformat": 4
 },
 "nbformat": 4,
 "nbformat_minor": 2
}
