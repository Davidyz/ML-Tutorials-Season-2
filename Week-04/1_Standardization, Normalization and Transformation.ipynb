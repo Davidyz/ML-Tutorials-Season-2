{
 "cells": [
  {
   "cell_type": "code",
   "execution_count": 7,
   "id": "extreme-lemon",
   "metadata": {},
   "outputs": [],
   "source": [
    "import pandas as pd"
   ]
  },
  {
   "cell_type": "markdown",
   "id": "standard-montreal",
   "metadata": {},
   "source": [
    "## Feature Scaling \n",
    "two most common techniques: \n",
    "    Standardization and Normalization"
   ]
  },
  {
   "cell_type": "code",
   "execution_count": 10,
   "id": "assigned-discipline",
   "metadata": {},
   "outputs": [],
   "source": [
    "data = pd.DataFrame([[-1, 2], [-0.5, 6], [0, 10], [1, 18]])"
   ]
  },
  {
   "cell_type": "markdown",
   "id": "coordinated-application",
   "metadata": {},
   "source": [
    "### Normalization\n",
    "Make data columns into the same scale in the range of 0 to 1\n",
    "<br />Also known as Min-Max Scale\n",
    "![norm](https://miro.medium.com/max/506/1*ii46F2WDo9mvFvdxzUvGbQ.png) \n",
    "\n"
   ]
  },
  {
   "cell_type": "code",
   "execution_count": 14,
   "id": "perceived-organizer",
   "metadata": {},
   "outputs": [
    {
     "name": "stdout",
     "output_type": "stream",
     "text": [
      "[[0.   0.  ]\n",
      " [0.25 0.25]\n",
      " [0.5  0.5 ]\n",
      " [1.   1.  ]]\n"
     ]
    }
   ],
   "source": [
    "from sklearn.preprocessing import MinMaxScaler\n",
    "\n",
    "min_max_scaler = MinMaxScaler()\n",
    "data_new = min_max_scaler.fit_transform(data)\n",
    "print(data_new)"
   ]
  },
  {
   "cell_type": "code",
   "execution_count": 12,
   "id": "quick-plant",
   "metadata": {},
   "outputs": [],
   "source": [
    "def normalize(values):\n",
    "    return (values - values.min())/(values.max() - values.min())"
   ]
  },
  {
   "cell_type": "code",
   "execution_count": 13,
   "id": "breeding-pierce",
   "metadata": {},
   "outputs": [
    {
     "data": {
      "text/html": [
       "<div>\n",
       "<style scoped>\n",
       "    .dataframe tbody tr th:only-of-type {\n",
       "        vertical-align: middle;\n",
       "    }\n",
       "\n",
       "    .dataframe tbody tr th {\n",
       "        vertical-align: top;\n",
       "    }\n",
       "\n",
       "    .dataframe thead th {\n",
       "        text-align: right;\n",
       "    }\n",
       "</style>\n",
       "<table border=\"1\" class=\"dataframe\">\n",
       "  <thead>\n",
       "    <tr style=\"text-align: right;\">\n",
       "      <th></th>\n",
       "      <th>0</th>\n",
       "      <th>1</th>\n",
       "    </tr>\n",
       "  </thead>\n",
       "  <tbody>\n",
       "    <tr>\n",
       "      <th>0</th>\n",
       "      <td>0.00</td>\n",
       "      <td>0.00</td>\n",
       "    </tr>\n",
       "    <tr>\n",
       "      <th>1</th>\n",
       "      <td>0.25</td>\n",
       "      <td>0.25</td>\n",
       "    </tr>\n",
       "    <tr>\n",
       "      <th>2</th>\n",
       "      <td>0.50</td>\n",
       "      <td>0.50</td>\n",
       "    </tr>\n",
       "    <tr>\n",
       "      <th>3</th>\n",
       "      <td>1.00</td>\n",
       "      <td>1.00</td>\n",
       "    </tr>\n",
       "  </tbody>\n",
       "</table>\n",
       "</div>"
      ],
      "text/plain": [
       "      0     1\n",
       "0  0.00  0.00\n",
       "1  0.25  0.25\n",
       "2  0.50  0.50\n",
       "3  1.00  1.00"
      ]
     },
     "execution_count": 13,
     "metadata": {},
     "output_type": "execute_result"
    }
   ],
   "source": [
    "normalize(data)"
   ]
  },
  {
   "cell_type": "markdown",
   "id": "flexible-strip",
   "metadata": {},
   "source": [
    "### Standardization\n",
    "The values are centered around the mean with a unit standard deviation\n",
    "<br />the values are not restricted to a particular range\n",
    "<img src=\"https://miro.medium.com/max/920/1*YSAAU_v--I8OlHQzG5A1Sg.png\" width=\"200\" height=\"700\"/>\n"
   ]
  },
  {
   "cell_type": "code",
   "execution_count": 16,
   "id": "compliant-natural",
   "metadata": {},
   "outputs": [
    {
     "name": "stdout",
     "output_type": "stream",
     "text": [
      "[[-1.18321596 -1.18321596]\n",
      " [-0.50709255 -0.50709255]\n",
      " [ 0.16903085  0.16903085]\n",
      " [ 1.52127766  1.52127766]]\n"
     ]
    }
   ],
   "source": [
    "from sklearn.preprocessing import StandardScaler\n",
    "\n",
    "standard_scaler = StandardScaler()\n",
    "data_new2 = standard_scaler.fit_transform(data)\n",
    "print(data_new2)"
   ]
  },
  {
   "cell_type": "code",
   "execution_count": 17,
   "id": "another-reviewer",
   "metadata": {},
   "outputs": [],
   "source": [
    "def standardize(values):\n",
    "    return (values - values.mean())/values.std()"
   ]
  },
  {
   "cell_type": "code",
   "execution_count": 18,
   "id": "micro-linux",
   "metadata": {},
   "outputs": [
    {
     "data": {
      "text/html": [
       "<div>\n",
       "<style scoped>\n",
       "    .dataframe tbody tr th:only-of-type {\n",
       "        vertical-align: middle;\n",
       "    }\n",
       "\n",
       "    .dataframe tbody tr th {\n",
       "        vertical-align: top;\n",
       "    }\n",
       "\n",
       "    .dataframe thead th {\n",
       "        text-align: right;\n",
       "    }\n",
       "</style>\n",
       "<table border=\"1\" class=\"dataframe\">\n",
       "  <thead>\n",
       "    <tr style=\"text-align: right;\">\n",
       "      <th></th>\n",
       "      <th>0</th>\n",
       "      <th>1</th>\n",
       "    </tr>\n",
       "  </thead>\n",
       "  <tbody>\n",
       "    <tr>\n",
       "      <th>0</th>\n",
       "      <td>-1.024695</td>\n",
       "      <td>-1.024695</td>\n",
       "    </tr>\n",
       "    <tr>\n",
       "      <th>1</th>\n",
       "      <td>-0.439155</td>\n",
       "      <td>-0.439155</td>\n",
       "    </tr>\n",
       "    <tr>\n",
       "      <th>2</th>\n",
       "      <td>0.146385</td>\n",
       "      <td>0.146385</td>\n",
       "    </tr>\n",
       "    <tr>\n",
       "      <th>3</th>\n",
       "      <td>1.317465</td>\n",
       "      <td>1.317465</td>\n",
       "    </tr>\n",
       "  </tbody>\n",
       "</table>\n",
       "</div>"
      ],
      "text/plain": [
       "          0         1\n",
       "0 -1.024695 -1.024695\n",
       "1 -0.439155 -0.439155\n",
       "2  0.146385  0.146385\n",
       "3  1.317465  1.317465"
      ]
     },
     "execution_count": 18,
     "metadata": {},
     "output_type": "execute_result"
    }
   ],
   "source": [
    "standardize(data)"
   ]
  },
  {
   "cell_type": "markdown",
   "id": "parliamentary-motorcycle",
   "metadata": {},
   "source": [
    "### Normalization V.S. Standardization \n",
    "* Normalization:<br />    the distribution of data does not follow a Gaussian distribution. This can be useful in algorithms that do not assume any distribution of the data like K-Nearest Neighbors and Neural Networks.\n",
    "* Standardization:<br />    the data follows a Gaussian distribution. Also, unlike normalization, standardization does not have a bounding range. So, even if you have outliers in your data, they will not be affected by standardization."
   ]
  },
  {
   "cell_type": "markdown",
   "id": "hairy-breed",
   "metadata": {},
   "source": [
    "### Quiz\n",
    "* for Gradient Descent Based Algorithms:\n",
    "\n",
    "* for Distance Based Algorithms:\n",
    "\n",
    "* for Tree Based Algorithms:"
   ]
  },
  {
   "cell_type": "markdown",
   "id": "latin-thickness",
   "metadata": {},
   "source": [
    "#### Reference:\n",
    "1. https://www.analyticsvidhya.com/blog/2020/04/feature-scaling-machine-learning-normalization-standardization/\n",
    "2. https://www.youtube.com/watch?v=mnKm3YP56PY"
   ]
  },
  {
   "cell_type": "code",
   "execution_count": null,
   "id": "requested-pittsburgh",
   "metadata": {},
   "outputs": [],
   "source": []
  }
 ],
 "metadata": {
  "kernelspec": {
   "display_name": "Python 3",
   "language": "python",
   "name": "python3"
  },
  "language_info": {
   "codemirror_mode": {
    "name": "ipython",
    "version": 3
   },
   "file_extension": ".py",
   "mimetype": "text/x-python",
   "name": "python",
   "nbconvert_exporter": "python",
   "pygments_lexer": "ipython3",
   "version": "3.8.6"
  }
 },
 "nbformat": 4,
 "nbformat_minor": 5
}
