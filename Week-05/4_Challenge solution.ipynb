{
 "cells": [
  {
   "cell_type": "code",
   "execution_count": 48,
   "id": "f0b5e838",
   "metadata": {},
   "outputs": [],
   "source": [
    "#Importing required libraries\n",
    "import numpy as np\n",
    "import pandas as pd\n",
    "import os\n",
    "import cv2\n",
    "import matplotlib.pyplot as plt\n",
    "from sklearn.model_selection import train_test_split\n",
    "import tensorflow as tf"
   ]
  },
  {
   "cell_type": "code",
   "execution_count": 3,
   "id": "b4220d75",
   "metadata": {},
   "outputs": [],
   "source": [
    "#Specifying data path\n",
    "path = r\"C:/Users/marty/Desktop/cells/\"\n",
    "\n",
    "#Creating empty arrays for images and labels\n",
    "Images = []\n",
    "Labels = []"
   ]
  },
  {
   "cell_type": "markdown",
   "id": "7d709846",
   "metadata": {},
   "source": [
    "### Visualizing sample image\n",
    "\n",
    "Before moving to the following sections, it would be useful to first visualize a sample image just to get a rough idea of what preprocessing functions we might use."
   ]
  },
  {
   "cell_type": "code",
   "execution_count": 60,
   "id": "3ac8d027",
   "metadata": {},
   "outputs": [
    {
     "data": {
      "text/plain": [
       "<matplotlib.image.AxesImage at 0x2322415c190>"
      ]
     },
     "execution_count": 60,
     "metadata": {},
     "output_type": "execute_result"
    },
    {
     "data": {
      "image/png": "[encoded data removed]",
      "text/plain": [
       "<Figure size 432x288 with 1 Axes>"
      ]
     },
     "metadata": {
      "needs_background": "light"
     },
     "output_type": "display_data"
    }
   ],
   "source": [
    "#Choosing sample image\n",
    "sample_path = r\"C:/Users/marty/Desktop/cells/pos/UID_1_1_1_all.bmp\"\n",
    "#Reading image\n",
    "sample_img = cv2.imread(sample_path)\n",
    "#Visualizing image\n",
    "plt.imshow(sample_img)"
   ]
  },
  {
   "cell_type": "markdown",
   "id": "0174b58b",
   "metadata": {},
   "source": [
    "### Preprocessing\n",
    "\n",
    "This step in our case involves reading, labelling data and then passing it through our custom OpenCV-based preprocessing function. There are variety of ways in which you could perform the last preprocessing step, but for starters, we are going to do the base minimum - color conversion, image resizing and standardization."
   ]
  },
  {
   "cell_type": "code",
   "execution_count": 49,
   "id": "94997246",
   "metadata": {},
   "outputs": [],
   "source": [
    "#Reading data\n",
    "def read_data(path):\n",
    "    Images = []\n",
    "    Labels = []\n",
    "    \n",
    "    for cat in os.listdir(path):\n",
    "        folder = os.path.join(path, cat)\n",
    "        for image_name in os.listdir(folder):\n",
    "            img = cv2.imread(os.path.join(folder, image_name))\n",
    "            \n",
    "            img = preprocessing(img)\n",
    "            \n",
    "            #Labelling data\n",
    "            if cat == 'pos':\n",
    "                Labels.append(1)\n",
    "            elif cat == 'neg':\n",
    "                Labels.append(0)\n",
    "            \n",
    "            Images.append(img)\n",
    "    \n",
    "    return Images, Labels\n",
    "\n",
    "\n",
    "#Data preprocessing function\n",
    "def preprocessing(img):\n",
    "    \n",
    "    #Converting to grayscale\n",
    "    img = cv2.cvtColor(img, cv2.COLOR_BGR2GRAY)\n",
    "    \n",
    "    #Resizing images        \n",
    "    img = cv2.resize(img, (32, 32))\n",
    "    \n",
    "    #Standardization        \n",
    "    img = np.array(img) / np.max(img)\n",
    "    \n",
    "    return img\n",
    "\n",
    "\n",
    "Images, Labels = read_data(path)"
   ]
  },
  {
   "cell_type": "markdown",
   "id": "5b646277",
   "metadata": {},
   "source": [
    "Visualizing preprocessed image"
   ]
  },
  {
   "cell_type": "code",
   "execution_count": 61,
   "id": "58dd7ffc",
   "metadata": {},
   "outputs": [
    {
     "data": {
      "text/plain": [
       "<matplotlib.image.AxesImage at 0x232241c7730>"
      ]
     },
     "execution_count": 61,
     "metadata": {},
     "output_type": "execute_result"
    },
    {
     "data": {
      "image/png": "[encoded data removed]",
      "text/plain": [
       "<Figure size 432x288 with 1 Axes>"
      ]
     },
     "metadata": {
      "needs_background": "light"
     },
     "output_type": "display_data"
    }
   ],
   "source": [
    "#Passing sample image through our preprocessing function\n",
    "sample_img = preprocessing(sample_img)\n",
    "plt.imshow(sample_img)"
   ]
  },
  {
   "cell_type": "markdown",
   "id": "a6fac1fb",
   "metadata": {},
   "source": [
    "### Splitting data\n",
    "\n",
    "As in the previous challenges, after performing basic preprocessing, we need to split our data into train-test datasets. On the other hand, we will also need to change the dimensions of our data as well as use the Keras function for converting our labels to categorical data"
   ]
  },
  {
   "cell_type": "code",
   "execution_count": 63,
   "id": "a9afeded",
   "metadata": {},
   "outputs": [],
   "source": [
    "X_train, X_test, y_train, y_test = train_test_split(Images, Labels, test_size = 0.3, stratify = Labels)\n",
    "\n",
    "X_train = np.expand_dims(np.array(X_train), axis = -1)\n",
    "X_test = np.expand_dims(np.array(X_test), axis = -1)\n",
    "y_train = tf.keras.utils.to_categorical(y_train, 2)\n",
    "y_test = tf.keras.utils.to_categorical(y_test, 2)"
   ]
  },
  {
   "cell_type": "markdown",
   "id": "9b870111",
   "metadata": {},
   "source": [
    "### Model\n",
    "\n",
    "For the model, we are going to build a LeNet structure CNN. Between each convolutional layers, there are pooling, batch normalization and dropout layers. The last two are used to omit overfitting our data. For the last layer, we flatten our network and pass through two dense layers last having a softmax activation function and two outputs (malignant - non-malignant)."
   ]
  },
  {
   "cell_type": "code",
   "execution_count": 45,
   "id": "ffc9beac",
   "metadata": {},
   "outputs": [],
   "source": [
    "def model():\n",
    "    model = tf.keras.models.Sequential([\n",
    "        tf.keras.layers.Conv2D(32, (3, 3), activation = 'relu', input_shape = (32, 32, 1)),\n",
    "        tf.keras.layers.BatchNormalization(),\n",
    "        tf.keras.layers.MaxPooling2D((2, 2)),\n",
    "        tf.keras.layers.Dropout(0.2),\n",
    "        \n",
    "        tf.keras.layers.Conv2D(64, (3, 3), activation = 'relu'),\n",
    "        tf.keras.layers.BatchNormalization(),\n",
    "        tf.keras.layers.MaxPooling2D((2, 2)),\n",
    "        tf.keras.layers.Dropout(0.2),\n",
    "        \n",
    "        tf.keras.layers.Conv2D(64, (3, 3), activation = 'relu'),\n",
    "        tf.keras.layers.BatchNormalization(),\n",
    "        tf.keras.layers.MaxPooling2D((2, 2)),\n",
    "        tf.keras.layers.Dropout(0.2),\n",
    "        \n",
    "        tf.keras.layers.Flatten(),\n",
    "        tf.keras.layers.Dense(128, activation = 'relu'),\n",
    "        tf.keras.layers.Dropout(0.2),\n",
    "        tf.keras.layers.Dense(2, activation = 'softmax')\n",
    "    ])\n",
    "    \n",
    "    return model"
   ]
  },
  {
   "cell_type": "markdown",
   "id": "e4283f2d",
   "metadata": {},
   "source": [
    "For the training, we are using categorical crossentropy loss function we have discussed previous time."
   ]
  },
  {
   "cell_type": "code",
   "execution_count": 46,
   "id": "de8a8f7b",
   "metadata": {
    "collapsed": true
   },
   "outputs": [
    {
     "name": "stdout",
     "output_type": "stream",
     "text": [
      "Epoch 1/10\n",
      "494/494 [==============================] - 5s 7ms/step - loss: 0.6519 - accuracy: 0.7918 - val_loss: 0.5013 - val_accuracy: 0.8117\n",
      "Epoch 2/10\n",
      "494/494 [==============================] - 3s 6ms/step - loss: 0.4779 - accuracy: 0.7908 - val_loss: 0.4744 - val_accuracy: 0.7976\n",
      "Epoch 3/10\n",
      "494/494 [==============================] - 3s 7ms/step - loss: 0.4772 - accuracy: 0.8095 - val_loss: 0.4753 - val_accuracy: 0.7874\n",
      "Epoch 4/10\n",
      "494/494 [==============================] - 3s 7ms/step - loss: 0.4626 - accuracy: 0.8029 - val_loss: 0.4522 - val_accuracy: 0.8320\n",
      "Epoch 5/10\n",
      "494/494 [==============================] - 3s 7ms/step - loss: 0.4593 - accuracy: 0.7953 - val_loss: 0.4534 - val_accuracy: 0.8097\n",
      "Epoch 6/10\n",
      "494/494 [==============================] - 3s 7ms/step - loss: 0.4584 - accuracy: 0.7964 - val_loss: 0.5090 - val_accuracy: 0.7874\n",
      "Epoch 7/10\n",
      "494/494 [==============================] - 3s 7ms/step - loss: 0.4605 - accuracy: 0.8045 - val_loss: 0.4333 - val_accuracy: 0.8219\n",
      "Epoch 8/10\n",
      "494/494 [==============================] - 3s 7ms/step - loss: 0.4529 - accuracy: 0.8029 - val_loss: 0.4625 - val_accuracy: 0.8057\n",
      "Epoch 9/10\n",
      "494/494 [==============================] - 3s 7ms/step - loss: 0.4531 - accuracy: 0.8156 - val_loss: 0.5097 - val_accuracy: 0.8117\n",
      "Epoch 10/10\n",
      "494/494 [==============================] - 3s 7ms/step - loss: 0.4544 - accuracy: 0.8014 - val_loss: 0.4699 - val_accuracy: 0.7976\n"
     ]
    },
    {
     "data": {
      "text/plain": [
       "<tensorflow.python.keras.callbacks.History at 0x233508d9e20>"
      ]
     },
     "execution_count": 46,
     "metadata": {},
     "output_type": "execute_result"
    }
   ],
   "source": [
    "model = model()\n",
    "\n",
    "model.compile(optimizer = 'adam',\n",
    "             loss = 'categorical_crossentropy',\n",
    "             metrics = ['accuracy'])\n",
    "\n",
    "model.fit(X_train, y_train, validation_split = 0.2, epochs = 10, shuffle = True, batch_size = 4)"
   ]
  }
 ],
 "metadata": {
  "kernelspec": {
   "display_name": "Python 3 (ipykernel)",
   "language": "python",
   "name": "python3"
  },
  "language_info": {
   "codemirror_mode": {
    "name": "ipython",
    "version": 3
   },
   "file_extension": ".py",
   "mimetype": "text/x-python",
   "name": "python",
   "nbconvert_exporter": "python",
   "pygments_lexer": "ipython3",
   "version": "3.9.6"
  }
 },
 "nbformat": 4,
 "nbformat_minor": 5
}
