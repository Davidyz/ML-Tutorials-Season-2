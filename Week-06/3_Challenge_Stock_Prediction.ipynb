{
 "cells": [
  {
   "cell_type": "markdown",
   "metadata": {
    "id": "cnf4fwcUTPt6"
   },
   "source": [
    "## Challenge - Stock Prediction"
   ]
  },
  {
   "cell_type": "markdown",
   "metadata": {
    "id": "6JjTm8LLTT98"
   },
   "source": [
    "![](https://miro.medium.com/max/9216/1*NG0bzk0wtQcBdMYAnXKeBQ.jpeg)\n",
    "### Background Information\n"
   ]
  },
  {
   "cell_type": "markdown",
   "metadata": {
    "id": "mpqj02TxUVy0"
   },
   "source": [
    "### Get data"
   ]
  },
  {
   "cell_type": "code",
   "execution_count": null,
   "metadata": {
    "id": "sqPqPeC5R4MJ"
   },
   "outputs": [],
   "source": [
    "import numpy as np\n",
    "import pandas as pd\n",
    "import seaborn as sns\n",
    "import matplotlib.pyplot as plt\n",
    "\n",
    "from datetime import datetime\n",
    "\n",
    "from IPython.core.interactiveshell import InteractiveShell\n",
    "InteractiveShell.ast_node_interactivity = \"all\""
   ]
  },
  {
   "cell_type": "code",
   "execution_count": null,
   "metadata": {
    "id": "2wUDjvKaV9_k"
   },
   "outputs": [],
   "source": [
    "data = pd.read_csv('TSLA.csv')"
   ]
  },
  {
   "cell_type": "code",
   "execution_count": null,
   "metadata": {
    "colab": {
     "base_uri": "https://localhost:8080/",
     "height": 606
    },
    "id": "GTofwweSWM_r",
    "outputId": "4be31200-33fb-43d9-9f7d-4f8e82a66fc6"
   },
   "outputs": [],
   "source": [
    "# explore data"
   ]
  },
  {
   "cell_type": "markdown",
   "metadata": {
    "id": "joxjLblhUYOU"
   },
   "source": [
    "### Preprocessing"
   ]
  },
  {
   "cell_type": "code",
   "execution_count": null,
   "metadata": {},
   "outputs": [],
   "source": [
    "# data visualization"
   ]
  },
  {
   "cell_type": "code",
   "execution_count": null,
   "metadata": {},
   "outputs": [],
   "source": [
    "# standardization"
   ]
  },
  {
   "cell_type": "markdown",
   "metadata": {
    "id": "pnYcvpeIUoxE"
   },
   "source": [
    "### Splitting Data"
   ]
  },
  {
   "cell_type": "code",
   "execution_count": null,
   "metadata": {},
   "outputs": [],
   "source": [
    "\n",
    "train,test = "
   ]
  },
  {
   "cell_type": "markdown",
   "metadata": {
    "id": "CedIhxNgUxfL"
   },
   "source": [
    "### Model"
   ]
  },
  {
   "cell_type": "code",
   "execution_count": null,
   "metadata": {},
   "outputs": [],
   "source": [
    "\n",
    "from tensorflow.keras.layers import LSTM\n",
    "from tensorflow.keras.models import Sequential\n",
    "from tensorflow.keras.layers import Dense, Activation, Dropout\n",
    "import time\n",
    "\n",
    "# transform price array to (X,y) dataset\n",
    "def create_dataset(dataset, look_back=1, forward_days=1):\n",
    "    dataX, dataY = [], []\n",
    "    for i in range(len(dataset)-look_back-1-forward_days):\n",
    "        a = dataset.iloc[i:(i+look_back)]\n",
    "        dataX.append(a)\n",
    "        dataY.append(dataset.iloc[i + look_back:i + look_back + forward_days])\n",
    "    return np.array(dataX), np.array(dataY)\n",
    "\n",
    "look_back = 40\n",
    "forward_days = 10\n",
    "trainX, trainY = create_dataset()\n",
    "testX, testY = create_dataset()\n",
    "\n",
    "# The LSTM network expects the input data to be provided with a specific array structure in the form of: [samples, time steps, features].\n",
    "trainX = np.reshape(trainX, (trainX.shape[0], 1, trainX.shape[1]))\n",
    "testX = np.reshape(testX, (testX.shape[0], 1, testX.shape[1]))"
   ]
  },
  {
   "cell_type": "code",
   "execution_count": null,
   "metadata": {},
   "outputs": [],
   "source": [
    "#build model\n",
    "model = Sequential()\n",
    "\n",
    "model.add()"
   ]
  },
  {
   "cell_type": "markdown",
   "metadata": {
    "id": "bha_zKf_U06D"
   },
   "source": [
    "### Training and Predicting"
   ]
  },
  {
   "cell_type": "code",
   "execution_count": null,
   "metadata": {
    "id": "qlrWsR6ONDHN"
   },
   "outputs": [],
   "source": [
    "history = model.fit()"
   ]
  },
  {
   "cell_type": "code",
   "execution_count": null,
   "metadata": {},
   "outputs": [],
   "source": [
    "results = model.predict(testX[:4])"
   ]
  },
  {
   "cell_type": "markdown",
   "metadata": {
    "id": "LWJX_xg6Qa_Z"
   },
   "source": [
    "### Reference:\n",
    "* https://www.kaggle.com/faressayah/stock-market-analysis-prediction-using-lstm\n",
    "* https://www.kaggle.com/pablocastilla/predict-stock-prices-with-lstm/data\n",
    "* https://medium.com/neuronio/predicting-stock-prices-with-lstm-349f5a0974d4"
   ]
  }
 ],
 "metadata": {
  "colab": {
   "collapsed_sections": [],
   "name": "Untitled2.ipynb",
   "provenance": []
  },
  "kernelspec": {
   "display_name": "Python 3",
   "language": "python",
   "name": "python3"
  },
  "language_info": {
   "codemirror_mode": {
    "name": "ipython",
    "version": 3
   },
   "file_extension": ".py",
   "mimetype": "text/x-python",
   "name": "python",
   "nbconvert_exporter": "python",
   "pygments_lexer": "ipython3",
   "version": "3.8.6"
  }
 },
 "nbformat": 4,
 "nbformat_minor": 1
}
