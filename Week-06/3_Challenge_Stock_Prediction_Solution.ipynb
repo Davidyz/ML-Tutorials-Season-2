{
 "cells": [
  {
   "cell_type": "markdown",
   "metadata": {
    "id": "cnf4fwcUTPt6"
   },
   "source": [
    "## Challenge - Stock Prediction"
   ]
  },
  {
   "cell_type": "markdown",
   "metadata": {
    "id": "6JjTm8LLTT98"
   },
   "source": [
    "![](https://miro.medium.com/max/9216/1*NG0bzk0wtQcBdMYAnXKeBQ.jpeg)\n",
    "### Background Information\n"
   ]
  },
  {
   "cell_type": "markdown",
   "metadata": {
    "id": "mpqj02TxUVy0"
   },
   "source": [
    "### Get data"
   ]
  },
  {
   "cell_type": "code",
   "execution_count": 44,
   "metadata": {
    "id": "sqPqPeC5R4MJ"
   },
   "outputs": [],
   "source": [
    "import numpy as np\n",
    "import pandas as pd\n",
    "import seaborn as sns\n",
    "import matplotlib.pyplot as plt\n",
    "\n",
    "from datetime import datetime\n",
    "\n",
    "from IPython.core.interactiveshell import InteractiveShell\n",
    "InteractiveShell.ast_node_interactivity = \"all\""
   ]
  },
  {
   "cell_type": "code",
   "execution_count": 103,
   "metadata": {
    "id": "2wUDjvKaV9_k"
   },
   "outputs": [],
   "source": [
    "data = pd.read_csv('TSLA.csv')"
   ]
  },
  {
   "cell_type": "code",
   "execution_count": 104,
   "metadata": {
    "colab": {
     "base_uri": "https://localhost:8080/",
     "height": 606
    },
    "id": "GTofwweSWM_r",
    "outputId": "4be31200-33fb-43d9-9f7d-4f8e82a66fc6"
   },
   "outputs": [
    {
     "data": {
      "text/plain": [
       "(2416, 7)"
      ]
     },
     "execution_count": 104,
     "metadata": {},
     "output_type": "execute_result"
    },
    {
     "data": {
      "text/plain": [
       "Date         0\n",
       "Open         0\n",
       "High         0\n",
       "Low          0\n",
       "Close        0\n",
       "Adj Close    0\n",
       "Volume       0\n",
       "dtype: int64"
      ]
     },
     "execution_count": 104,
     "metadata": {},
     "output_type": "execute_result"
    },
    {
     "data": {
      "text/html": [
       "<div>\n",
       "<style scoped>\n",
       "    .dataframe tbody tr th:only-of-type {\n",
       "        vertical-align: middle;\n",
       "    }\n",
       "\n",
       "    .dataframe tbody tr th {\n",
       "        vertical-align: top;\n",
       "    }\n",
       "\n",
       "    .dataframe thead th {\n",
       "        text-align: right;\n",
       "    }\n",
       "</style>\n",
       "<table border=\"1\" class=\"dataframe\">\n",
       "  <thead>\n",
       "    <tr style=\"text-align: right;\">\n",
       "      <th></th>\n",
       "      <th>Open</th>\n",
       "      <th>High</th>\n",
       "      <th>Low</th>\n",
       "      <th>Close</th>\n",
       "      <th>Adj Close</th>\n",
       "      <th>Volume</th>\n",
       "    </tr>\n",
       "  </thead>\n",
       "  <tbody>\n",
       "    <tr>\n",
       "      <th>count</th>\n",
       "      <td>2416.000000</td>\n",
       "      <td>2416.000000</td>\n",
       "      <td>2416.000000</td>\n",
       "      <td>2416.000000</td>\n",
       "      <td>2416.000000</td>\n",
       "      <td>2.416000e+03</td>\n",
       "    </tr>\n",
       "    <tr>\n",
       "      <th>mean</th>\n",
       "      <td>186.271147</td>\n",
       "      <td>189.578224</td>\n",
       "      <td>182.916639</td>\n",
       "      <td>186.403651</td>\n",
       "      <td>186.403651</td>\n",
       "      <td>5.572722e+06</td>\n",
       "    </tr>\n",
       "    <tr>\n",
       "      <th>std</th>\n",
       "      <td>118.740163</td>\n",
       "      <td>120.892329</td>\n",
       "      <td>116.857591</td>\n",
       "      <td>119.136020</td>\n",
       "      <td>119.136020</td>\n",
       "      <td>4.987809e+06</td>\n",
       "    </tr>\n",
       "    <tr>\n",
       "      <th>min</th>\n",
       "      <td>16.139999</td>\n",
       "      <td>16.629999</td>\n",
       "      <td>14.980000</td>\n",
       "      <td>15.800000</td>\n",
       "      <td>15.800000</td>\n",
       "      <td>1.185000e+05</td>\n",
       "    </tr>\n",
       "    <tr>\n",
       "      <th>25%</th>\n",
       "      <td>34.342498</td>\n",
       "      <td>34.897501</td>\n",
       "      <td>33.587501</td>\n",
       "      <td>34.400002</td>\n",
       "      <td>34.400002</td>\n",
       "      <td>1.899275e+06</td>\n",
       "    </tr>\n",
       "    <tr>\n",
       "      <th>50%</th>\n",
       "      <td>213.035003</td>\n",
       "      <td>216.745002</td>\n",
       "      <td>208.870002</td>\n",
       "      <td>212.960007</td>\n",
       "      <td>212.960007</td>\n",
       "      <td>4.578400e+06</td>\n",
       "    </tr>\n",
       "    <tr>\n",
       "      <th>75%</th>\n",
       "      <td>266.450012</td>\n",
       "      <td>270.927513</td>\n",
       "      <td>262.102501</td>\n",
       "      <td>266.774994</td>\n",
       "      <td>266.774994</td>\n",
       "      <td>7.361150e+06</td>\n",
       "    </tr>\n",
       "    <tr>\n",
       "      <th>max</th>\n",
       "      <td>673.690002</td>\n",
       "      <td>786.140015</td>\n",
       "      <td>673.520020</td>\n",
       "      <td>780.000000</td>\n",
       "      <td>780.000000</td>\n",
       "      <td>4.706500e+07</td>\n",
       "    </tr>\n",
       "  </tbody>\n",
       "</table>\n",
       "</div>"
      ],
      "text/plain": [
       "              Open         High          Low        Close    Adj Close  \\\n",
       "count  2416.000000  2416.000000  2416.000000  2416.000000  2416.000000   \n",
       "mean    186.271147   189.578224   182.916639   186.403651   186.403651   \n",
       "std     118.740163   120.892329   116.857591   119.136020   119.136020   \n",
       "min      16.139999    16.629999    14.980000    15.800000    15.800000   \n",
       "25%      34.342498    34.897501    33.587501    34.400002    34.400002   \n",
       "50%     213.035003   216.745002   208.870002   212.960007   212.960007   \n",
       "75%     266.450012   270.927513   262.102501   266.774994   266.774994   \n",
       "max     673.690002   786.140015   673.520020   780.000000   780.000000   \n",
       "\n",
       "             Volume  \n",
       "count  2.416000e+03  \n",
       "mean   5.572722e+06  \n",
       "std    4.987809e+06  \n",
       "min    1.185000e+05  \n",
       "25%    1.899275e+06  \n",
       "50%    4.578400e+06  \n",
       "75%    7.361150e+06  \n",
       "max    4.706500e+07  "
      ]
     },
     "execution_count": 104,
     "metadata": {},
     "output_type": "execute_result"
    }
   ],
   "source": [
    "data.shape\n",
    "data.isna().sum()\n",
    "data.describe()\n",
    "#data['Date'] = pd.to_datetime(data['Date'])"
   ]
  },
  {
   "cell_type": "markdown",
   "metadata": {
    "id": "joxjLblhUYOU"
   },
   "source": [
    "### Preprocessing"
   ]
  },
  {
   "cell_type": "code",
   "execution_count": 105,
   "metadata": {},
   "outputs": [
    {
     "data": {
      "text/plain": [
       "[<matplotlib.lines.Line2D at 0x7ff1dabadee0>]"
      ]
     },
     "execution_count": 105,
     "metadata": {},
     "output_type": "execute_result"
    },
    {
     "data": {
      "image/png": "[encoded data removed]",
      "text/plain": [
       "<Figure size 432x288 with 1 Axes>"
      ]
     },
     "metadata": {
      "needs_background": "light"
     },
     "output_type": "display_data"
    }
   ],
   "source": [
    "plt.plot(data['Close'])\n",
    "plt.show()"
   ]
  },
  {
   "cell_type": "code",
   "execution_count": 106,
   "metadata": {},
   "outputs": [
    {
     "data": {
      "text/plain": [
       "0        23.889999\n",
       "1        23.830000\n",
       "2        21.959999\n",
       "3        19.200001\n",
       "4        16.110001\n",
       "           ...    \n",
       "2411    566.900024\n",
       "2412    580.989990\n",
       "2413    640.809998\n",
       "2414    650.570007\n",
       "2415    780.000000\n",
       "Name: Close, Length: 2416, dtype: float64"
      ]
     },
     "execution_count": 106,
     "metadata": {},
     "output_type": "execute_result"
    },
    {
     "data": {
      "text/plain": [
       "0       0.010586\n",
       "1       0.010508\n",
       "2       0.008061\n",
       "3       0.004449\n",
       "4       0.000406\n",
       "          ...   \n",
       "2411    0.721146\n",
       "2412    0.739584\n",
       "2413    0.817862\n",
       "2414    0.830633\n",
       "2415    1.000000\n",
       "Name: Close, Length: 2416, dtype: float64"
      ]
     },
     "execution_count": 106,
     "metadata": {},
     "output_type": "execute_result"
    }
   ],
   "source": [
    "data['Close']\n",
    "\n",
    "from sklearn.preprocessing import MinMaxScaler\n",
    "scaler = MinMaxScaler(feature_range=(0, 1))\n",
    "data['Close'] = scaler.fit_transform(data['Close'].values.reshape(-1,1))\n",
    "\n",
    "data['Close']"
   ]
  },
  {
   "cell_type": "markdown",
   "metadata": {
    "id": "pnYcvpeIUoxE"
   },
   "source": [
    "### Splitting Data"
   ]
  },
  {
   "cell_type": "code",
   "execution_count": 107,
   "metadata": {},
   "outputs": [
    {
     "data": {
      "text/plain": [
       "1388"
      ]
     },
     "execution_count": 107,
     "metadata": {},
     "output_type": "execute_result"
    },
    {
     "data": {
      "text/plain": [
       "1028"
      ]
     },
     "execution_count": 107,
     "metadata": {},
     "output_type": "execute_result"
    }
   ],
   "source": [
    "\n",
    "train,test = data[pd.to_datetime(data['Date'])<datetime(2016,1,1)]['Close'],data[pd.to_datetime(data['Date'])>=datetime(2016,1,1)]['Close']\n",
    "len(train)\n",
    "len(test)"
   ]
  },
  {
   "cell_type": "code",
   "execution_count": 108,
   "metadata": {},
   "outputs": [
    {
     "data": {
      "text/plain": [
       "0       0.010586\n",
       "1       0.010508\n",
       "2       0.008061\n",
       "3       0.004449\n",
       "4       0.000406\n",
       "          ...   \n",
       "1383    0.281039\n",
       "1384    0.278919\n",
       "1385    0.289702\n",
       "1386    0.290879\n",
       "1387    0.293392\n",
       "Name: Close, Length: 1388, dtype: float64"
      ]
     },
     "execution_count": 108,
     "metadata": {},
     "output_type": "execute_result"
    }
   ],
   "source": [
    "train"
   ]
  },
  {
   "cell_type": "markdown",
   "metadata": {
    "id": "CedIhxNgUxfL"
   },
   "source": [
    "### Model"
   ]
  },
  {
   "cell_type": "code",
   "execution_count": 120,
   "metadata": {},
   "outputs": [
    {
     "data": {
      "text/plain": [
       "array([[[0.01058623, 0.01050772, 0.00806072, ..., 0.00431824,\n",
       "         0.00566605, 0.0044491 ]],\n",
       "\n",
       "       [[0.01050772, 0.00806072, 0.0044491 , ..., 0.00566605,\n",
       "         0.0044491 , 0.00536509]],\n",
       "\n",
       "       [[0.00806072, 0.0044491 , 0.00040565, ..., 0.0044491 ,\n",
       "         0.00536509, 0.0051688 ]],\n",
       "\n",
       "       ...,\n",
       "\n",
       "       [[0.26892175, 0.27638052, 0.27780686, ..., 0.27600105,\n",
       "         0.27312222, 0.27645905]],\n",
       "\n",
       "       [[0.27638052, 0.27780686, 0.25808689, ..., 0.27312222,\n",
       "         0.27645905, 0.26330804]],\n",
       "\n",
       "       [[0.27780686, 0.25808689, 0.25423972, ..., 0.27645905,\n",
       "         0.26330804, 0.26534939]]])"
      ]
     },
     "execution_count": 120,
     "metadata": {},
     "output_type": "execute_result"
    }
   ],
   "source": [
    "\n",
    "from tensorflow.keras.layers import LSTM\n",
    "from tensorflow.keras.models import Sequential\n",
    "from tensorflow.keras.layers import Dense, Activation, Dropout\n",
    "import time\n",
    "\n",
    "def create_dataset(dataset, look_back=1, forward_days=1):\n",
    "    dataX, dataY = [], []\n",
    "    for i in range(len(dataset)-look_back-1-forward_days):\n",
    "        a = dataset.iloc[i:(i+look_back)]\n",
    "        dataX.append(a)\n",
    "        dataY.append(dataset.iloc[i + look_back:i + look_back + forward_days])\n",
    "    return np.array(dataX), np.array(dataY)\n",
    "\n",
    "look_back = 40\n",
    "forward_days = 10\n",
    "trainX, trainY = create_dataset(train, look_back, forward_days)\n",
    "testX, testY = create_dataset(test, look_back, forward_days)\n",
    "\n",
    "# The LSTM network expects the input data to be provided with a specific array structure in the form of: [samples, time steps, features].\n",
    "trainX = np.reshape(trainX, (trainX.shape[0], 1, trainX.shape[1]))\n",
    "testX = np.reshape(testX, (testX.shape[0], 1, testX.shape[1]))\n",
    "trainX"
   ]
  },
  {
   "cell_type": "code",
   "execution_count": 121,
   "metadata": {},
   "outputs": [
    {
     "name": "stdout",
     "output_type": "stream",
     "text": [
      "compilation time :  0.015812158584594727\n"
     ]
    }
   ],
   "source": [
    "model = Sequential()\n",
    "\n",
    "model.add(LSTM(128,\n",
    "    return_sequences=True,\n",
    "    activation='tanh'))\n",
    "model.add(Dropout(0.2))\n",
    "\n",
    "model.add(LSTM(\n",
    "    64,\n",
    "    return_sequences=False))\n",
    "model.add(Dropout(0.2))\n",
    "\n",
    "model.add(Dense(forward_days))\n",
    "model.add(Activation('linear'))\n",
    "\n",
    "start = time.time()\n",
    "model.compile(loss='mse', optimizer='adam')\n",
    "print ('compilation time : ', time.time() - start)"
   ]
  },
  {
   "cell_type": "markdown",
   "metadata": {
    "id": "bha_zKf_U06D"
   },
   "source": [
    "### Training and Predicting"
   ]
  },
  {
   "cell_type": "code",
   "execution_count": 122,
   "metadata": {
    "id": "qlrWsR6ONDHN"
   },
   "outputs": [
    {
     "name": "stdout",
     "output_type": "stream",
     "text": [
      "Epoch 1/10\n",
      "10/10 [==============================] - 1s 59ms/step - loss: 0.0250 - val_loss: 0.0462\n",
      "Epoch 2/10\n",
      "10/10 [==============================] - 0s 6ms/step - loss: 0.0116 - val_loss: 0.0068\n",
      "Epoch 3/10\n",
      "10/10 [==============================] - 0s 5ms/step - loss: 0.0038 - val_loss: 0.0037\n",
      "Epoch 4/10\n",
      "10/10 [==============================] - 0s 6ms/step - loss: 0.0028 - val_loss: 0.0016\n",
      "Epoch 5/10\n",
      "10/10 [==============================] - 0s 6ms/step - loss: 0.0022 - val_loss: 6.5033e-04\n",
      "Epoch 6/10\n",
      "10/10 [==============================] - 0s 6ms/step - loss: 0.0019 - val_loss: 6.8773e-04\n",
      "Epoch 7/10\n",
      "10/10 [==============================] - 0s 5ms/step - loss: 0.0017 - val_loss: 4.5876e-04\n",
      "Epoch 8/10\n",
      "10/10 [==============================] - 0s 5ms/step - loss: 0.0015 - val_loss: 5.7179e-04\n",
      "Epoch 9/10\n",
      "10/10 [==============================] - 0s 5ms/step - loss: 0.0014 - val_loss: 5.0277e-04\n",
      "Epoch 10/10\n",
      "10/10 [==============================] - 0s 5ms/step - loss: 0.0013 - val_loss: 5.1131e-04\n"
     ]
    }
   ],
   "source": [
    "history = model.fit(\n",
    "    trainX,\n",
    "    trainY,\n",
    "    batch_size=128,\n",
    "    epochs=10,\n",
    "    validation_split=0.05)"
   ]
  },
  {
   "cell_type": "code",
   "execution_count": 123,
   "metadata": {},
   "outputs": [
    {
     "data": {
      "text/plain": [
       "array([[0.21870115, 0.2171164 , 0.2161629 , 0.21636918, 0.21700537,\n",
       "        0.2162019 , 0.2182273 , 0.21779715, 0.22324046, 0.22007525],\n",
       "       [0.21767381, 0.21592271, 0.21496601, 0.2153234 , 0.21633446,\n",
       "        0.21510525, 0.21753591, 0.21680206, 0.22239846, 0.21907534],\n",
       "       [0.21725042, 0.21527618, 0.21428674, 0.21481028, 0.2155748 ,\n",
       "        0.2148428 , 0.21698165, 0.21613503, 0.22189854, 0.21849671],\n",
       "       [0.21724492, 0.21532962, 0.21462817, 0.21495733, 0.21611853,\n",
       "        0.21466164, 0.2169953 , 0.21613397, 0.22193888, 0.2185436 ]],\n",
       "      dtype=float32)"
      ]
     },
     "execution_count": 123,
     "metadata": {},
     "output_type": "execute_result"
    },
    {
     "data": {
      "text/plain": [
       "array([[0.22577859, 0.23546193, 0.24239727, 0.24795864, 0.24443864,\n",
       "        0.252447  , 0.2478147 , 0.25085056, 0.26086102, 0.26503533],\n",
       "       [0.23546193, 0.24239727, 0.24795864, 0.24443864, 0.252447  ,\n",
       "        0.2478147 , 0.25085056, 0.26086102, 0.26503533, 0.26973305],\n",
       "       [0.24239727, 0.24795864, 0.24443864, 0.252447  , 0.2478147 ,\n",
       "        0.25085056, 0.26086102, 0.26503533, 0.26973305, 0.27555614],\n",
       "       [0.24795864, 0.24443864, 0.252447  , 0.2478147 , 0.25085056,\n",
       "        0.26086102, 0.26503533, 0.26973305, 0.27555614, 0.28387857]])"
      ]
     },
     "execution_count": 123,
     "metadata": {},
     "output_type": "execute_result"
    }
   ],
   "source": [
    "results = model.predict(testX[:4])\n",
    "results\n",
    "testY[:4]"
   ]
  },
  {
   "cell_type": "markdown",
   "metadata": {
    "id": "LWJX_xg6Qa_Z"
   },
   "source": [
    "### Reference:\n",
    "* https://www.kaggle.com/faressayah/stock-market-analysis-prediction-using-lstm\n",
    "* https://www.kaggle.com/pablocastilla/predict-stock-prices-with-lstm/data\n",
    "* https://medium.com/neuronio/predicting-stock-prices-with-lstm-349f5a0974d4"
   ]
  }
 ],
 "metadata": {
  "colab": {
   "collapsed_sections": [],
   "name": "Untitled2.ipynb",
   "provenance": []
  },
  "kernelspec": {
   "display_name": "Python 3",
   "language": "python",
   "name": "python3"
  },
  "language_info": {
   "codemirror_mode": {
    "name": "ipython",
    "version": 3
   },
   "file_extension": ".py",
   "mimetype": "text/x-python",
   "name": "python",
   "nbconvert_exporter": "python",
   "pygments_lexer": "ipython3",
   "version": "3.8.6"
  }
 },
 "nbformat": 4,
 "nbformat_minor": 1
}
